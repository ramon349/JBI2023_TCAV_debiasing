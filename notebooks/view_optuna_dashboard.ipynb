{
 "cells": [
  {
   "cell_type": "code",
   "execution_count": 1,
   "metadata": {},
   "outputs": [
    {
     "name": "stderr",
     "output_type": "stream",
     "text": [
      "/home/ramon/miniconda3/envs/jbi/lib/python3.9/site-packages/tqdm/auto.py:21: TqdmWarning: IProgress not found. Please update jupyter and ipywidgets. See https://ipywidgets.readthedocs.io/en/stable/user_install.html\n",
      "  from .autonotebook import tqdm as notebook_tqdm\n",
      "[I 2023-11-13 09:46:37,981] Using an existing study with name 'baseline_densenet' instead of creating a new one.\n"
     ]
    }
   ],
   "source": [
    "import optuna \n",
    "study_mode = \"single\"\n",
    "if study_mode=='debias':\n",
    "    study = optuna.create_study(\n",
    "                study_name='debias_param_search',\n",
    "                storage='sqlite:///../debias_param_search.db',\n",
    "                directions=[\"minimize\",\"maximize\"],\n",
    "                load_if_exists=True)\n",
    "if study_mode==\"single\":\n",
    "    study = optuna.create_study(\n",
    "                    study_name='baseline_densenet',\n",
    "                    storage='sqlite:///../baseline_densenet.db',\n",
    "                    directions=[\"minimize\"],\n",
    "                    load_if_exists=True)\n",
    "\n"
   ]
  },
  {
   "cell_type": "code",
   "execution_count": 2,
   "metadata": {},
   "outputs": [],
   "source": [
    "import pandas as pd \n",
    "df_rows = list() \n",
    "if study_mode =='debias': \n",
    "    for e in study.trials:\n",
    "        if e.state == optuna.trial.TrialState.COMPLETE: \n",
    "            task_loss,demo_loss = e.values \n",
    "            lmbd = e.params['lambda']\n",
    "            df_rows.append([lmbd,task_loss,demo_loss,e._trial_id])\n",
    "    sample = pd.DataFrame(df_rows,columns=['lambda','taskLoss','demoLoss','trial_id']) \n",
    "    sample['ratio'] = sample['demoLoss']/sample['taskLoss']\n",
    "    sample = sample.sort_values(by='ratio',ascending=False)\n",
    "    sample = sample[sample['taskLoss']<1] \n",
    "else: \n",
    "    for e in study.trials:\n",
    "        if e.state == optuna.trial.TrialState.COMPLETE: \n",
    "            task_loss = e.values \n",
    "            df_rows.append([task_loss[0],e.number ])\n",
    "    sample = pd.DataFrame(df_rows,columns=['taskLoss','trial_id']) \n",
    "    sample = sample.sort_values(by='taskLoss',ascending=True)"
   ]
  },
  {
   "cell_type": "code",
   "execution_count": 3,
   "metadata": {},
   "outputs": [
    {
     "data": {
      "text/plain": [
       "[FrozenTrial(number=0, state=TrialState.FAIL, values=None, datetime_start=datetime.datetime(2023, 11, 12, 15, 52, 35, 635742), datetime_complete=datetime.datetime(2023, 11, 12, 15, 54, 45, 220796), params={'batch_size': 44, 'optimizer': 'AdamW', 'lr': 0.01930706668039461, 'scheduler': 'ReduceLROnPlateau', 'platau_factor': 0.06999999999999999, 'patience': 4}, user_attrs={}, system_attrs={}, intermediate_values={0: 55.87909698486328}, distributions={'batch_size': IntDistribution(high=64, log=False, low=16, step=4), 'optimizer': CategoricalDistribution(choices=('SGD', 'Adam', 'AdamW')), 'lr': FloatDistribution(high=0.1, log=True, low=1e-05, step=None), 'scheduler': CategoricalDistribution(choices=('ReduceLROnPlateau', 'StepLR')), 'platau_factor': FloatDistribution(high=0.09, log=False, low=0.01, step=0.02), 'patience': IntDistribution(high=10, log=False, low=2, step=2)}, trial_id=1, value=None),\n",
       " FrozenTrial(number=1, state=TrialState.FAIL, values=None, datetime_start=datetime.datetime(2023, 11, 12, 15, 56, 33, 642078), datetime_complete=datetime.datetime(2023, 11, 12, 15, 58, 26, 168485), params={'batch_size': 48, 'optimizer': 'AdamW', 'lr': 0.0008138708731503017, 'scheduler': 'ReduceLROnPlateau', 'platau_factor': 0.05, 'patience': 2}, user_attrs={}, system_attrs={}, intermediate_values={0: 1.3099217414855957, 1: 0.6988006234169006, 2: 0.9860803484916687, 3: 1.170724630355835, 4: 0.9957578182220459, 5: 0.7738686203956604, 6: 0.69032883644104, 7: 0.6802248954772949, 8: 0.7461583018302917, 9: 0.74847412109375}, distributions={'batch_size': IntDistribution(high=64, log=False, low=16, step=4), 'optimizer': CategoricalDistribution(choices=('SGD', 'Adam', 'AdamW')), 'lr': FloatDistribution(high=0.1, log=True, low=1e-05, step=None), 'scheduler': CategoricalDistribution(choices=('ReduceLROnPlateau', 'StepLR')), 'platau_factor': FloatDistribution(high=0.09, log=False, low=0.01, step=0.02), 'patience': IntDistribution(high=10, log=False, low=2, step=2)}, trial_id=2, value=None),\n",
       " FrozenTrial(number=2, state=TrialState.COMPLETE, values=[23.28119468688965], datetime_start=datetime.datetime(2023, 11, 12, 16, 1, 39, 672592), datetime_complete=datetime.datetime(2023, 11, 12, 16, 3, 28, 709820), params={'batch_size': 56, 'optimizer': 'AdamW', 'lr': 0.0549730822356242, 'scheduler': 'StepLR', 'lr_step': 9}, user_attrs={}, system_attrs={}, intermediate_values={0: 2.400960324615844e+26, 1: 1.695883406082048e+16, 2: 80993681408.0, 3: 412208512.0, 4: 49104364.0, 5: 3158764.5, 6: 139846.75, 7: 22619.005859375, 8: 10637.2373046875, 9: 23.28119468688965}, distributions={'batch_size': IntDistribution(high=64, log=False, low=16, step=4), 'optimizer': CategoricalDistribution(choices=('SGD', 'Adam', 'AdamW')), 'lr': FloatDistribution(high=0.1, log=True, low=1e-05, step=None), 'scheduler': CategoricalDistribution(choices=('ReduceLROnPlateau', 'StepLR')), 'lr_step': IntDistribution(high=9, log=False, low=5, step=2)}, trial_id=3, value=None),\n",
       " FrozenTrial(number=3, state=TrialState.COMPLETE, values=[155.79525756835938], datetime_start=datetime.datetime(2023, 11, 12, 16, 3, 28, 727972), datetime_complete=datetime.datetime(2023, 11, 12, 16, 5, 25, 411170), params={'batch_size': 40, 'optimizer': 'AdamW', 'lr': 0.08043780228461586, 'scheduler': 'ReduceLROnPlateau', 'platau_factor': 0.09, 'patience': 2}, user_attrs={}, system_attrs={}, intermediate_values={0: 2.0903601706463396e+18, 1: 549347131392.0, 2: 393948448.0, 3: 9006808.0, 4: 508027.34375, 5: 7977.4365234375, 6: 147.42953491210938, 7: 122.51708221435547, 8: 13.608147621154785, 9: 155.79525756835938}, distributions={'batch_size': IntDistribution(high=64, log=False, low=16, step=4), 'optimizer': CategoricalDistribution(choices=('SGD', 'Adam', 'AdamW')), 'lr': FloatDistribution(high=0.1, log=True, low=1e-05, step=None), 'scheduler': CategoricalDistribution(choices=('ReduceLROnPlateau', 'StepLR')), 'platau_factor': FloatDistribution(high=0.09, log=False, low=0.01, step=0.02), 'patience': IntDistribution(high=10, log=False, low=2, step=2)}, trial_id=4, value=None),\n",
       " FrozenTrial(number=4, state=TrialState.COMPLETE, values=[5.062725067138672], datetime_start=datetime.datetime(2023, 11, 12, 16, 5, 25, 425825), datetime_complete=datetime.datetime(2023, 11, 12, 16, 8, 46, 730829), params={'batch_size': 16, 'optimizer': 'Adam', 'lr': 0.0042566086844146025, 'scheduler': 'ReduceLROnPlateau', 'platau_factor': 0.01, 'patience': 6}, user_attrs={}, system_attrs={}, intermediate_values={0: 3487.98876953125, 1: 1.2659176588058472, 2: 2.318424701690674, 3: 1.62807035446167, 4: 1.4791613817214966, 5: 3.126988172531128, 6: 4.373869895935059, 7: 2.1012895107269287, 8: 0.9971621632575989, 9: 5.062725067138672}, distributions={'batch_size': IntDistribution(high=64, log=False, low=16, step=4), 'optimizer': CategoricalDistribution(choices=('SGD', 'Adam', 'AdamW')), 'lr': FloatDistribution(high=0.1, log=True, low=1e-05, step=None), 'scheduler': CategoricalDistribution(choices=('ReduceLROnPlateau', 'StepLR')), 'platau_factor': FloatDistribution(high=0.09, log=False, low=0.01, step=0.02), 'patience': IntDistribution(high=10, log=False, low=2, step=2)}, trial_id=5, value=None),\n",
       " FrozenTrial(number=5, state=TrialState.COMPLETE, values=[6.035272121429443], datetime_start=datetime.datetime(2023, 11, 12, 16, 8, 46, 747224), datetime_complete=datetime.datetime(2023, 11, 12, 16, 11, 29, 858757), params={'batch_size': 20, 'optimizer': 'AdamW', 'lr': 0.003658451204405032, 'scheduler': 'StepLR', 'lr_step': 9}, user_attrs={}, system_attrs={}, intermediate_values={0: 5440.08984375, 1: 0.656680166721344, 2: 4.996867656707764, 3: 5.023860931396484, 4: 1.3958141803741455, 5: 0.7513249516487122, 6: 1145.4234619140625, 7: 40.995182037353516, 8: 20.502975463867188, 9: 6.035272121429443}, distributions={'batch_size': IntDistribution(high=64, log=False, low=16, step=4), 'optimizer': CategoricalDistribution(choices=('SGD', 'Adam', 'AdamW')), 'lr': FloatDistribution(high=0.1, log=True, low=1e-05, step=None), 'scheduler': CategoricalDistribution(choices=('ReduceLROnPlateau', 'StepLR')), 'lr_step': IntDistribution(high=9, log=False, low=5, step=2)}, trial_id=6, value=None),\n",
       " FrozenTrial(number=6, state=TrialState.FAIL, values=None, datetime_start=datetime.datetime(2023, 11, 12, 16, 11, 29, 879859), datetime_complete=datetime.datetime(2023, 11, 12, 16, 12, 42, 738796), params={'batch_size': 24, 'optimizer': 'Adam', 'lr': 0.00022736499850890246, 'scheduler': 'ReduceLROnPlateau', 'platau_factor': 0.03, 'patience': 10}, user_attrs={}, system_attrs={}, intermediate_values={0: 0.5717665553092957, 1: 0.7706166505813599, 2: 0.9048143625259399, 3: 0.6587230563163757}, distributions={'batch_size': IntDistribution(high=64, log=False, low=16, step=4), 'optimizer': CategoricalDistribution(choices=('SGD', 'Adam', 'AdamW')), 'lr': FloatDistribution(high=0.1, log=True, low=1e-05, step=None), 'scheduler': CategoricalDistribution(choices=('ReduceLROnPlateau', 'StepLR')), 'platau_factor': FloatDistribution(high=0.09, log=False, low=0.01, step=0.02), 'patience': IntDistribution(high=10, log=False, low=2, step=2)}, trial_id=7, value=None),\n",
       " FrozenTrial(number=7, state=TrialState.FAIL, values=None, datetime_start=datetime.datetime(2023, 11, 12, 16, 12, 57, 878592), datetime_complete=datetime.datetime(2023, 11, 12, 16, 13, 2, 335030), params={'batch_size': 16, 'optimizer': 'AdamW', 'lr': 0.005605629272130906, 'scheduler': 'StepLR', 'lr_step': 5}, user_attrs={}, system_attrs={}, intermediate_values={}, distributions={'batch_size': IntDistribution(high=64, log=False, low=16, step=4), 'optimizer': CategoricalDistribution(choices=('SGD', 'Adam', 'AdamW')), 'lr': FloatDistribution(high=0.1, log=True, low=1e-05, step=None), 'scheduler': CategoricalDistribution(choices=('ReduceLROnPlateau', 'StepLR')), 'lr_step': IntDistribution(high=9, log=False, low=5, step=2)}, trial_id=8, value=None),\n",
       " FrozenTrial(number=8, state=TrialState.COMPLETE, values=[1.1384789943695068], datetime_start=datetime.datetime(2023, 11, 12, 16, 13, 54, 620565), datetime_complete=datetime.datetime(2023, 11, 12, 16, 16, 14, 250276), params={'batch_size': 28, 'optimizer': 'AdamW', 'lr': 0.0033687093872954584, 'scheduler': 'StepLR', 'lr_step': 5}, user_attrs={}, system_attrs={}, intermediate_values={0: 14237.4560546875, 1: 95.92345428466797, 2: 11.330080032348633, 3: 1.2823134660720825, 4: 1.8916254043579102, 5: 1.380347490310669, 6: 1.0124883651733398, 7: 0.9955880641937256, 8: 1.0933456420898438, 9: 1.1384789943695068}, distributions={'batch_size': IntDistribution(high=64, log=False, low=16, step=4), 'optimizer': CategoricalDistribution(choices=('SGD', 'Adam', 'AdamW')), 'lr': FloatDistribution(high=0.1, log=True, low=1e-05, step=None), 'scheduler': CategoricalDistribution(choices=('ReduceLROnPlateau', 'StepLR')), 'lr_step': IntDistribution(high=9, log=False, low=5, step=2)}, trial_id=9, value=None),\n",
       " FrozenTrial(number=9, state=TrialState.COMPLETE, values=[1.5393532514572144], datetime_start=datetime.datetime(2023, 11, 12, 16, 16, 14, 274375), datetime_complete=datetime.datetime(2023, 11, 12, 16, 18, 54, 909761), params={'batch_size': 20, 'optimizer': 'AdamW', 'lr': 0.00045187639120624566, 'scheduler': 'ReduceLROnPlateau', 'platau_factor': 0.03, 'patience': 2}, user_attrs={}, system_attrs={}, intermediate_values={0: 0.7042277455329895, 1: 2.14056658744812, 2: 1.1520389318466187, 3: 1.6748265027999878, 4: 1.2836376428604126, 5: 1.2273091077804565, 6: 1.3095329999923706, 7: 1.375639796257019, 8: 1.4306540489196777, 9: 1.5393532514572144}, distributions={'batch_size': IntDistribution(high=64, log=False, low=16, step=4), 'optimizer': CategoricalDistribution(choices=('SGD', 'Adam', 'AdamW')), 'lr': FloatDistribution(high=0.1, log=True, low=1e-05, step=None), 'scheduler': CategoricalDistribution(choices=('ReduceLROnPlateau', 'StepLR')), 'platau_factor': FloatDistribution(high=0.09, log=False, low=0.01, step=0.02), 'patience': IntDistribution(high=10, log=False, low=2, step=2)}, trial_id=10, value=None)]"
      ]
     },
     "execution_count": 3,
     "metadata": {},
     "output_type": "execute_result"
    }
   ],
   "source": [
    "study.trials"
   ]
  },
  {
   "cell_type": "code",
   "execution_count": 4,
   "metadata": {},
   "outputs": [
    {
     "data": {
      "text/html": [
       "<div>\n",
       "<style scoped>\n",
       "    .dataframe tbody tr th:only-of-type {\n",
       "        vertical-align: middle;\n",
       "    }\n",
       "\n",
       "    .dataframe tbody tr th {\n",
       "        vertical-align: top;\n",
       "    }\n",
       "\n",
       "    .dataframe thead th {\n",
       "        text-align: right;\n",
       "    }\n",
       "</style>\n",
       "<table border=\"1\" class=\"dataframe\">\n",
       "  <thead>\n",
       "    <tr style=\"text-align: right;\">\n",
       "      <th></th>\n",
       "      <th>taskLoss</th>\n",
       "      <th>trial_id</th>\n",
       "    </tr>\n",
       "  </thead>\n",
       "  <tbody>\n",
       "    <tr>\n",
       "      <th>4</th>\n",
       "      <td>1.138479</td>\n",
       "      <td>8</td>\n",
       "    </tr>\n",
       "    <tr>\n",
       "      <th>5</th>\n",
       "      <td>1.539353</td>\n",
       "      <td>9</td>\n",
       "    </tr>\n",
       "    <tr>\n",
       "      <th>2</th>\n",
       "      <td>5.062725</td>\n",
       "      <td>4</td>\n",
       "    </tr>\n",
       "    <tr>\n",
       "      <th>3</th>\n",
       "      <td>6.035272</td>\n",
       "      <td>5</td>\n",
       "    </tr>\n",
       "    <tr>\n",
       "      <th>0</th>\n",
       "      <td>23.281195</td>\n",
       "      <td>2</td>\n",
       "    </tr>\n",
       "    <tr>\n",
       "      <th>1</th>\n",
       "      <td>155.795258</td>\n",
       "      <td>3</td>\n",
       "    </tr>\n",
       "  </tbody>\n",
       "</table>\n",
       "</div>"
      ],
      "text/plain": [
       "     taskLoss  trial_id\n",
       "4    1.138479         8\n",
       "5    1.539353         9\n",
       "2    5.062725         4\n",
       "3    6.035272         5\n",
       "0   23.281195         2\n",
       "1  155.795258         3"
      ]
     },
     "execution_count": 4,
     "metadata": {},
     "output_type": "execute_result"
    }
   ],
   "source": [
    "sample"
   ]
  },
  {
   "cell_type": "code",
   "execution_count": 30,
   "metadata": {},
   "outputs": [],
   "source": [
    "best_trial_idx = sample['trial_id'].iloc[0]"
   ]
  },
  {
   "cell_type": "code",
   "execution_count": null,
   "metadata": {},
   "outputs": [],
   "source": []
  },
  {
   "cell_type": "code",
   "execution_count": 33,
   "metadata": {},
   "outputs": [
    {
     "name": "stdout",
     "output_type": "stream",
     "text": [
      "{'batch_size': 44, 'lambda': 0.7908505984797102, 'optimizer': 'AdamW', 'lr': 0.00015530268483585034, 'scheduler': 'ReduceLROnPlateau', 'platau_factor': 0.06999999999999999, 'patience': 2}\n"
     ]
    }
   ],
   "source": [
    "if study_mode=='single': \n",
    "    print(study.best_trial.params)\n",
    "else: \n",
    "    print(study.trials[best_trial_idx].params)"
   ]
  }
 ],
 "metadata": {
  "kernelspec": {
   "display_name": "kidney20",
   "language": "python",
   "name": "python3"
  },
  "language_info": {
   "codemirror_mode": {
    "name": "ipython",
    "version": 3
   },
   "file_extension": ".py",
   "mimetype": "text/x-python",
   "name": "python",
   "nbconvert_exporter": "python",
   "pygments_lexer": "ipython3",
   "version": "3.9.18"
  },
  "orig_nbformat": 4
 },
 "nbformat": 4,
 "nbformat_minor": 2
}
